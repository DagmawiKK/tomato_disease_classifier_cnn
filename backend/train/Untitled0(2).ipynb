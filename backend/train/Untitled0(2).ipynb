{
  "nbformat": 4,
  "nbformat_minor": 0,
  "metadata": {
    "colab": {
      "provenance": [],
      "gpuType": "T4"
    },
    "kernelspec": {
      "name": "python3",
      "display_name": "Python 3"
    },
    "language_info": {
      "name": "python"
    },
    "accelerator": "GPU"
  },
  "cells": [
    {
      "cell_type": "code",
      "execution_count": null,
      "metadata": {
        "colab": {
          "base_uri": "https://localhost:8080/"
        },
        "id": "PUhmij4qXejq",
        "outputId": "3bae6e4f-4749-4a0b-c90f-c32f4f5138ed"
      },
      "outputs": [
        {
          "output_type": "stream",
          "name": "stdout",
          "text": [
            "GPU Available:  [PhysicalDevice(name='/physical_device:GPU:0', device_type='GPU')]\n",
            "TensorFlow version: 2.18.0\n"
          ]
        }
      ],
      "source": [
        "import os\n",
        "import numpy as np\n",
        "import pandas as pd\n",
        "import matplotlib.pyplot as plt\n",
        "import seaborn as sns\n",
        "from sklearn.metrics import classification_report, confusion_matrix, roc_auc_score, roc_curve\n",
        "from sklearn.model_selection import train_test_split\n",
        "import gc\n",
        "import zipfile\n",
        "import requests\n",
        "from PIL import Image\n",
        "import io\n",
        "\n",
        "import tensorflow as tf\n",
        "from tensorflow.keras import layers, models, optimizers, callbacks\n",
        "from tensorflow.keras.preprocessing.image import ImageDataGenerator\n",
        "from tensorflow.keras.applications import EfficientNetB0\n",
        "from tensorflow.keras.utils import to_categorical\n",
        "\n",
        "# Check GPU availability\n",
        "print(\"GPU Available: \", tf.config.list_physical_devices('GPU'))\n",
        "print(\"TensorFlow version:\", tf.__version__)"
      ]
    },
    {
      "cell_type": "code",
      "source": [
        "# Memory optimization\n",
        "def optimize_memory():\n",
        "    \"\"\"Optimize memory usage for Colab\"\"\"\n",
        "    gpus = tf.config.experimental.list_physical_devices('GPU')\n",
        "    if gpus:\n",
        "        try:\n",
        "            for gpu in gpus:\n",
        "                tf.config.experimental.set_memory_growth(gpu, True)\n",
        "        except RuntimeError as e:\n",
        "            print(e)\n",
        "\n",
        "optimize_memory()"
      ],
      "metadata": {
        "id": "poPskCVFXpVf"
      },
      "execution_count": null,
      "outputs": []
    },
    {
      "cell_type": "code",
      "source": [
        "# Configuration\n",
        "CONFIG = {\n",
        "    'IMG_SIZE': 128,\n",
        "    'BATCH_SIZE': 16,\n",
        "    'EPOCHS': 20,\n",
        "    'LEARNING_RATE': 0.001,\n",
        "    'VALIDATION_SPLIT': 0.2,\n",
        "    'PATIENCE': 3,\n",
        "    'NUM_CLASSES': 2,\n",
        "    'SEED': 42\n",
        "}\n",
        "\n",
        "np.random.seed(CONFIG['SEED'])\n",
        "tf.random.set_seed(CONFIG['SEED'])\n",
        "\n",
        "# Mount Google Drive\n",
        "from google.colab import drive\n",
        "#drive.mount('/content/drive')"
      ],
      "metadata": {
        "id": "GJn3V4xDXryZ"
      },
      "execution_count": null,
      "outputs": []
    },
    {
      "cell_type": "code",
      "source": [
        "def load_and_preprocess_image(image_path, target_size=(224, 224)):\n",
        "    \"\"\"Load and preprocess a single image with memory optimization\"\"\"\n",
        "    try:\n",
        "        img = tf.io.read_file(image_path)\n",
        "        img = tf.image.decode_image(img, channels=3)\n",
        "        img = tf.image.resize(img, target_size)\n",
        "        img = tf.cast(img, tf.float32) / 255.0\n",
        "        return img\n",
        "    except:\n",
        "        return None"
      ],
      "metadata": {
        "id": "n8xt39IJXu-l"
      },
      "execution_count": null,
      "outputs": []
    },
    {
      "cell_type": "code",
      "source": [
        "class MemoryEfficientDataGenerator(tf.keras.utils.Sequence):\n",
        "    def __init__(self, image_paths, labels, batch_size, img_size, shuffle=True, augment=False):\n",
        "        self.image_paths = image_paths\n",
        "        self.labels = labels\n",
        "        self.batch_size = batch_size\n",
        "        self.img_size = img_size\n",
        "        self.shuffle = shuffle\n",
        "        self.augment = augment\n",
        "        self.indices = np.arange(len(self.image_paths))\n",
        "        self.on_epoch_end()\n",
        "\n",
        "        # Data augmentation\n",
        "        if self.augment:\n",
        "            self.datagen = ImageDataGenerator(\n",
        "                rotation_range=30,\n",
        "                width_shift_range=0.2,\n",
        "                height_shift_range=0.2,\n",
        "                shear_range=0.2,\n",
        "                zoom_range=0.2,\n",
        "                horizontal_flip=True,\n",
        "                vertical_flip=True,\n",
        "                brightness_range=[0.8, 1.2],\n",
        "                fill_mode='nearest'\n",
        "            )\n",
        "\n",
        "    def __len__(self):\n",
        "        return int(np.ceil(len(self.image_paths) / self.batch_size))\n",
        "\n",
        "    def __getitem__(self, index):\n",
        "        batch_indices = self.indices[index * self.batch_size:(index + 1) * self.batch_size]\n",
        "        batch_images = []\n",
        "        batch_labels = []\n",
        "\n",
        "        for i in batch_indices:\n",
        "            try:\n",
        "                img = Image.open(self.image_paths[i]).convert('RGB')\n",
        "                img = img.resize(self.img_size)\n",
        "                img = np.array(img) / 255.0\n",
        "\n",
        "                if self.augment and self.labels[i] == 1:  # Augment tomato leaves more\n",
        "                    img = self.datagen.random_transform(img)\n",
        "\n",
        "                batch_images.append(img)\n",
        "                batch_labels.append(self.labels[i])\n",
        "            except:\n",
        "                continue\n",
        "\n",
        "        return np.array(batch_images), np.array(batch_labels) # Removed to_categorical\n",
        "\n",
        "    def on_epoch_end(self):\n",
        "        if self.shuffle:\n",
        "            np.random.shuffle(self.indices)"
      ],
      "metadata": {
        "id": "5WT0_7klXxhj"
      },
      "execution_count": null,
      "outputs": []
    },
    {
      "cell_type": "code",
      "source": [
        "# Function to create negative samples (you'll need to implement this based on your data)\n",
        "def create_negative_samples():\n",
        "\n",
        "    print(\"Creating negative samples from CIFAR-10...\")\n",
        "\n",
        "    (x_train, y_train), (x_test, y_test) = tf.keras.datasets.cifar10.load_data()\n",
        "\n",
        "    num_negative_samples = 16000\n",
        "    negative_images_array = x_train[:num_negative_samples]\n",
        "\n",
        "    # Save negative samples to a temporary directory\n",
        "    temp_neg_dir = \"/tmp/negative_samples\"\n",
        "    os.makedirs(temp_neg_dir, exist_ok=True)\n",
        "    negative_files = []\n",
        "    print(f\"Saving {num_negative_samples} negative samples to {temp_neg_dir}...\")\n",
        "    for i, img_array in enumerate(negative_images_array):\n",
        "        try:\n",
        "            # Convert NumPy array to PIL Image\n",
        "            img = Image.fromarray(np.uint8(img_array))\n",
        "            file_path = os.path.join(temp_neg_dir, f\"negative_{i}.png\")\n",
        "            img.save(file_path)\n",
        "            negative_files.append(file_path)\n",
        "        except Exception as e:\n",
        "            print(f\"Error saving negative image {i}: {e}\")\n",
        "            continue\n",
        "\n",
        "    print(f\"Saved {len(negative_files)} negative samples\")\n",
        "    return negative_files"
      ],
      "metadata": {
        "id": "DCRVyoE_X1LP"
      },
      "execution_count": null,
      "outputs": []
    },
    {
      "cell_type": "code",
      "source": [
        "# Function to prepare dataset\n",
        "def prepare_dataset(tomato_path):\n",
        "    \"\"\"Prepare the dataset with tomato leaves and negative samples\"\"\"\n",
        "\n",
        "    # Load tomato leaf images\n",
        "    print(\"Loading tomato leaf images...\")\n",
        "    tomato_files = []\n",
        "    for root, dirs, files in os.walk(tomato_path):\n",
        "        for file in files:\n",
        "            if file.lower().endswith(('.png', '.jpg', \".JPG\", '.jpeg')):\n",
        "                tomato_files.append(os.path.join(root, file))\n",
        "\n",
        "    print(f\"Found {len(tomato_files)} tomato leaf images\")\n",
        "\n",
        "    # Create labels\n",
        "    tomato_labels = [1] * len(tomato_files)\n",
        "\n",
        "    # Create negative samples\n",
        "    negative_files = create_negative_samples()\n",
        "\n",
        "    negative_labels = [0] * len(negative_files)\n",
        "\n",
        "    # Combine paths and labels\n",
        "    all_paths = tomato_files + negative_files\n",
        "    all_labels = tomato_labels + negative_labels\n",
        "\n",
        "    return all_paths, all_labels"
      ],
      "metadata": {
        "id": "e7MqYNZZX5nC"
      },
      "execution_count": null,
      "outputs": []
    },
    {
      "cell_type": "code",
      "source": [
        "# Build the model\n",
        "def create_model():\n",
        "    \"\"\"Create EfficientNet-B0 based binary classifier\"\"\"\n",
        "\n",
        "    # Load pre-trained EfficientNet-B0\n",
        "    base_model = EfficientNetB0(\n",
        "        weights='imagenet',\n",
        "        include_top=False,\n",
        "        input_shape=(CONFIG['IMG_SIZE'], CONFIG['IMG_SIZE'], 3)\n",
        "    )\n",
        "\n",
        "    # Freeze base model initially\n",
        "    base_model.trainable = False\n",
        "\n",
        "    # Add custom classification head\n",
        "    model = models.Sequential([\n",
        "        base_model,\n",
        "        layers.GlobalAveragePooling2D(),\n",
        "        layers.BatchNormalization(),\n",
        "        layers.Dropout(0.3),\n",
        "        layers.Dense(128, activation='relu'),\n",
        "        layers.BatchNormalization(),\n",
        "        layers.Dropout(0.2),\n",
        "        layers.Dense(1, activation='sigmoid')\n",
        "    ])\n",
        "\n",
        "    return model"
      ],
      "metadata": {
        "id": "s_lANfrnX7uw"
      },
      "execution_count": null,
      "outputs": []
    },
    {
      "cell_type": "code",
      "source": [
        "# Training function\n",
        "def train_model(model, train_generator, val_generator):\n",
        "    \"\"\"Train the model with callbacks\"\"\"\n",
        "\n",
        "    # Compile model\n",
        "    model.compile(\n",
        "        optimizer=optimizers.Adam(learning_rate=CONFIG['LEARNING_RATE']),\n",
        "        loss='binary_crossentropy', # Changed to binary_crossentropy\n",
        "        metrics=['accuracy']\n",
        "    )\n",
        "\n",
        "    # Callbacks\n",
        "    callbacks_list = [\n",
        "        callbacks.EarlyStopping(\n",
        "            monitor='val_accuracy',\n",
        "            patience=CONFIG['PATIENCE'],\n",
        "            restore_best_weights=True,\n",
        "            verbose=1\n",
        "        ),\n",
        "        callbacks.ReduceLROnPlateau(\n",
        "            monitor='val_loss',\n",
        "            factor=0.3,\n",
        "            patience=3,\n",
        "            min_lr=1e-7,\n",
        "            verbose=1\n",
        "        ),\n",
        "        callbacks.ModelCheckpoint(\n",
        "            'best_tomato_classifier.h5',\n",
        "            monitor='val_accuracy',\n",
        "            save_best_only=True,\n",
        "            verbose=1\n",
        "        )\n",
        "    ]\n",
        "\n",
        "    # Train\n",
        "    history = model.fit(\n",
        "        train_generator,\n",
        "        epochs=CONFIG['EPOCHS'],\n",
        "        validation_data=val_generator,\n",
        "        callbacks=callbacks_list,\n",
        "        verbose=1\n",
        "    )\n",
        "\n",
        "    return history"
      ],
      "metadata": {
        "id": "m54UvepYX-Rm"
      },
      "execution_count": null,
      "outputs": []
    },
    {
      "cell_type": "code",
      "source": [
        "# Fine-tuning function\n",
        "def fine_tune_model(model, train_generator, val_generator):\n",
        "    \"\"\"Fine-tune the model with unfrozen layers\"\"\"\n",
        "\n",
        "    # Unfreeze some layers\n",
        "    model.layers[0].trainable = True\n",
        "\n",
        "    # Compile with lower learning rate\n",
        "    model.compile(\n",
        "        optimizer=optimizers.Adam(learning_rate=CONFIG['LEARNING_RATE']/10),\n",
        "        loss='categorical_crossentropy',\n",
        "        metrics=['accuracy']\n",
        "    )\n",
        "\n",
        "    # Fine-tune for few epochs\n",
        "    history_fine = model.fit(\n",
        "        train_generator,\n",
        "        epochs=5,\n",
        "        validation_data=val_generator,\n",
        "        verbose=1\n",
        "    )\n",
        "\n",
        "    return history_fine"
      ],
      "metadata": {
        "id": "n_abdXNWYA3I"
      },
      "execution_count": null,
      "outputs": []
    },
    {
      "cell_type": "code",
      "source": [
        "# Evaluation function\n",
        "def evaluate_model(model, test_generator):\n",
        "    \"\"\"Evaluate model performance\"\"\"\n",
        "\n",
        "    # Predictions\n",
        "    y_pred = model.predict(test_generator)\n",
        "    y_pred_classes = (y_pred > 0.5).astype(int)\n",
        "\n",
        "    # True labels (you'll need to extract these from your test generator)\n",
        "    y_true = []\n",
        "    for i in range(len(test_generator)):\n",
        "        _, labels = test_generator[i]\n",
        "        y_true.extend(labels) # Labels are already in the correct format\n",
        "\n",
        "    y_true = np.array(y_true[:len(y_pred_classes)])\n",
        "\n",
        "    # Metrics\n",
        "    print(\"Classification Report:\")\n",
        "    print(classification_report(y_true, y_pred_classes, target_names=['Not Tomato', 'Tomato']))\n",
        "\n",
        "    # Confusion Matrix\n",
        "    cm = confusion_matrix(y_true, y_pred_classes)\n",
        "    plt.figure(figsize=(8, 6))\n",
        "    sns.heatmap(cm, annot=True, fmt='d', cmap='Blues',\n",
        "                xticklabels=['Not Tomato', 'Tomato'],\n",
        "                yticklabels=['Not Tomato', 'Tomato'])\n",
        "    plt.title('Confusion Matrix')\n",
        "    plt.show()\n",
        "\n",
        "    # ROC curve\n",
        "    y_pred_proba = y_pred[:, 0] # Probability of the positive class\n",
        "    fpr, tpr, _ = roc_curve(y_true, y_pred_proba)\n",
        "    auc_score = roc_auc_score(y_true, y_pred_proba)\n",
        "\n",
        "    plt.figure(figsize=(8, 6))\n",
        "    plt.plot(fpr, tpr, label=f'ROC Curve (AUC = {auc_score:.3f})')\n",
        "    plt.plot([0, 1], [0, 1], 'k--')\n",
        "    plt.xlabel('False Positive Rate')\n",
        "    plt.ylabel('True Positive Rate')\n",
        "    plt.title('ROC Curve')\n",
        "    plt.legend()\n",
        "    plt.show()\n",
        "\n",
        "    return y_pred, y_pred_classes, auc_score\n"
      ],
      "metadata": {
        "id": "5a-MmpFEYDxD"
      },
      "execution_count": null,
      "outputs": []
    },
    {
      "cell_type": "code",
      "source": [
        "# Main execution\n",
        "def main():\n",
        "    \"\"\"Main training pipeline\"\"\"\n",
        "\n",
        "    TOMATO_PATH = \"/content/drive/MyDrive/PlantVillage\"\n",
        "    LOCAL_TOMATO_PATH = \"/content/local_plantvillage\"\n",
        "\n",
        "    copy_dataset_to_local(TOMATO_PATH, LOCAL_TOMATO_PATH)\n",
        "\n",
        "\n",
        "    print(\"Preparing dataset...\")\n",
        "    all_paths, all_labels = prepare_dataset(LOCAL_TOMATO_PATH)\n",
        "\n",
        "    # Split data\n",
        "    train_paths, test_paths, train_labels, test_labels = train_test_split(\n",
        "        all_paths, all_labels, test_size=0.2, random_state=CONFIG['SEED'], stratify=all_labels\n",
        "    )\n",
        "\n",
        "    train_paths, val_paths, train_labels, val_labels = train_test_split(\n",
        "        train_paths, train_labels, test_size=0.2, random_state=CONFIG['SEED'], stratify=train_labels\n",
        "    )\n",
        "\n",
        "    # Create data generators\n",
        "    train_generator = MemoryEfficientDataGenerator(\n",
        "        train_paths, train_labels, CONFIG['BATCH_SIZE'],\n",
        "        (CONFIG['IMG_SIZE'], CONFIG['IMG_SIZE']), shuffle=True, augment=True\n",
        "    )\n",
        "\n",
        "    val_generator = MemoryEfficientDataGenerator(\n",
        "        val_paths, val_labels, CONFIG['BATCH_SIZE'],\n",
        "        (CONFIG['IMG_SIZE'], CONFIG['IMG_SIZE']), shuffle=False, augment=False\n",
        "    )\n",
        "\n",
        "    test_generator = MemoryEfficientDataGenerator(\n",
        "        test_paths, test_labels, CONFIG['BATCH_SIZE'],\n",
        "        (CONFIG['IMG_SIZE'], CONFIG['IMG_SIZE']), shuffle=False, augment=False\n",
        "    )\n",
        "\n",
        "    print(\"Creating model...\")\n",
        "    model = create_model()\n",
        "    model.summary()\n",
        "\n",
        "    print(\"Training model...\")\n",
        "    history = train_model(model, train_generator, val_generator)\n",
        "\n",
        "    print(\"Fine-tuning model...\")\n",
        "    history_fine = fine_tune_model(model, train_generator, val_generator)\n",
        "\n",
        "    print(\"Evaluating model...\")\n",
        "    y_pred, y_pred_classes, auc_score = evaluate_model(model, test_generator)\n",
        "\n",
        "    model.save('final_tomato_classifier.h5')\n",
        "    print(\"Model saved as 'final_tomato_classifier.h5'\")\n",
        "\n",
        "    del model, train_generator, val_generator, test_generator\n",
        "    gc.collect()\n",
        "\n"
      ],
      "metadata": {
        "id": "v56sA9cfYG6a"
      },
      "execution_count": null,
      "outputs": []
    },
    {
      "cell_type": "code",
      "source": [
        "\n",
        "def predict_single_image(model_path, image_path):\n",
        "\n",
        "    model = tf.keras.models.load_model(model_path)\n",
        "\n",
        "    # Load and preprocess image\n",
        "    img = Image.open(image_path).convert('RGB')\n",
        "    img = img.resize((CONFIG['IMG_SIZE'], CONFIG['IMG_SIZE']))\n",
        "    img = np.array(img) / 255.0\n",
        "    img = np.expand_dims(img, axis=0)\n",
        "\n",
        "    # Predict\n",
        "    prediction = model.predict(img)\n",
        "    probability = prediction[0][1]  # Probability of being tomato leaf\n",
        "\n",
        "    if probability > 0.5:\n",
        "        result = \"Tomato Leaf\"\n",
        "    else:\n",
        "        result = \"Not Tomato Leaf\"\n",
        "\n",
        "    return result, probability\n"
      ],
      "metadata": {
        "id": "nMgXLxmEYJls"
      },
      "execution_count": null,
      "outputs": []
    },
    {
      "cell_type": "code",
      "source": [
        "main()"
      ],
      "metadata": {
        "colab": {
          "base_uri": "https://localhost:8080/",
          "height": 1000
        },
        "id": "CGW9MYaAYOkU",
        "outputId": "a3cc7b49-60e8-4b2d-e3fa-9fbc4f4fee40"
      },
      "execution_count": null,
      "outputs": [
        {
          "output_type": "stream",
          "name": "stdout",
          "text": [
            "Copying dataset from /content/drive/MyDrive/PlantVillage to /content/local_plantvillage...\n",
            "Destination directory already exists. Skipping copy.\n",
            "Preparing dataset...\n",
            "Loading tomato leaf images...\n",
            "Found 16011 tomato leaf images\n",
            "Creating negative samples from CIFAR-10...\n",
            "Saving 16000 negative samples to /tmp/negative_samples...\n",
            "Saved 16000 negative samples\n",
            "Creating model...\n"
          ]
        },
        {
          "output_type": "display_data",
          "data": {
            "text/plain": [
              "\u001b[1mModel: \"sequential_4\"\u001b[0m\n"
            ],
            "text/html": [
              "<pre style=\"white-space:pre;overflow-x:auto;line-height:normal;font-family:Menlo,'DejaVu Sans Mono',consolas,'Courier New',monospace\"><span style=\"font-weight: bold\">Model: \"sequential_4\"</span>\n",
              "</pre>\n"
            ]
          },
          "metadata": {}
        },
        {
          "output_type": "display_data",
          "data": {
            "text/plain": [
              "┏━━━━━━━━━━━━━━━━━━━━━━━━━━━━━━━━━┳━━━━━━━━━━━━━━━━━━━━━━━━┳━━━━━━━━━━━━━━━┓\n",
              "┃\u001b[1m \u001b[0m\u001b[1mLayer (type)                   \u001b[0m\u001b[1m \u001b[0m┃\u001b[1m \u001b[0m\u001b[1mOutput Shape          \u001b[0m\u001b[1m \u001b[0m┃\u001b[1m \u001b[0m\u001b[1m      Param #\u001b[0m\u001b[1m \u001b[0m┃\n",
              "┡━━━━━━━━━━━━━━━━━━━━━━━━━━━━━━━━━╇━━━━━━━━━━━━━━━━━━━━━━━━╇━━━━━━━━━━━━━━━┩\n",
              "│ efficientnetb0 (\u001b[38;5;33mFunctional\u001b[0m)     │ (\u001b[38;5;45mNone\u001b[0m, \u001b[38;5;34m4\u001b[0m, \u001b[38;5;34m4\u001b[0m, \u001b[38;5;34m1280\u001b[0m)     │     \u001b[38;5;34m4,049,571\u001b[0m │\n",
              "├─────────────────────────────────┼────────────────────────┼───────────────┤\n",
              "│ global_average_pooling2d_4      │ (\u001b[38;5;45mNone\u001b[0m, \u001b[38;5;34m1280\u001b[0m)           │             \u001b[38;5;34m0\u001b[0m │\n",
              "│ (\u001b[38;5;33mGlobalAveragePooling2D\u001b[0m)        │                        │               │\n",
              "├─────────────────────────────────┼────────────────────────┼───────────────┤\n",
              "│ batch_normalization_8           │ (\u001b[38;5;45mNone\u001b[0m, \u001b[38;5;34m1280\u001b[0m)           │         \u001b[38;5;34m5,120\u001b[0m │\n",
              "│ (\u001b[38;5;33mBatchNormalization\u001b[0m)            │                        │               │\n",
              "├─────────────────────────────────┼────────────────────────┼───────────────┤\n",
              "│ dropout_8 (\u001b[38;5;33mDropout\u001b[0m)             │ (\u001b[38;5;45mNone\u001b[0m, \u001b[38;5;34m1280\u001b[0m)           │             \u001b[38;5;34m0\u001b[0m │\n",
              "├─────────────────────────────────┼────────────────────────┼───────────────┤\n",
              "│ dense_8 (\u001b[38;5;33mDense\u001b[0m)                 │ (\u001b[38;5;45mNone\u001b[0m, \u001b[38;5;34m128\u001b[0m)            │       \u001b[38;5;34m163,968\u001b[0m │\n",
              "├─────────────────────────────────┼────────────────────────┼───────────────┤\n",
              "│ batch_normalization_9           │ (\u001b[38;5;45mNone\u001b[0m, \u001b[38;5;34m128\u001b[0m)            │           \u001b[38;5;34m512\u001b[0m │\n",
              "│ (\u001b[38;5;33mBatchNormalization\u001b[0m)            │                        │               │\n",
              "├─────────────────────────────────┼────────────────────────┼───────────────┤\n",
              "│ dropout_9 (\u001b[38;5;33mDropout\u001b[0m)             │ (\u001b[38;5;45mNone\u001b[0m, \u001b[38;5;34m128\u001b[0m)            │             \u001b[38;5;34m0\u001b[0m │\n",
              "├─────────────────────────────────┼────────────────────────┼───────────────┤\n",
              "│ dense_9 (\u001b[38;5;33mDense\u001b[0m)                 │ (\u001b[38;5;45mNone\u001b[0m, \u001b[38;5;34m1\u001b[0m)              │           \u001b[38;5;34m129\u001b[0m │\n",
              "└─────────────────────────────────┴────────────────────────┴───────────────┘\n"
            ],
            "text/html": [
              "<pre style=\"white-space:pre;overflow-x:auto;line-height:normal;font-family:Menlo,'DejaVu Sans Mono',consolas,'Courier New',monospace\">┏━━━━━━━━━━━━━━━━━━━━━━━━━━━━━━━━━┳━━━━━━━━━━━━━━━━━━━━━━━━┳━━━━━━━━━━━━━━━┓\n",
              "┃<span style=\"font-weight: bold\"> Layer (type)                    </span>┃<span style=\"font-weight: bold\"> Output Shape           </span>┃<span style=\"font-weight: bold\">       Param # </span>┃\n",
              "┡━━━━━━━━━━━━━━━━━━━━━━━━━━━━━━━━━╇━━━━━━━━━━━━━━━━━━━━━━━━╇━━━━━━━━━━━━━━━┩\n",
              "│ efficientnetb0 (<span style=\"color: #0087ff; text-decoration-color: #0087ff\">Functional</span>)     │ (<span style=\"color: #00d7ff; text-decoration-color: #00d7ff\">None</span>, <span style=\"color: #00af00; text-decoration-color: #00af00\">4</span>, <span style=\"color: #00af00; text-decoration-color: #00af00\">4</span>, <span style=\"color: #00af00; text-decoration-color: #00af00\">1280</span>)     │     <span style=\"color: #00af00; text-decoration-color: #00af00\">4,049,571</span> │\n",
              "├─────────────────────────────────┼────────────────────────┼───────────────┤\n",
              "│ global_average_pooling2d_4      │ (<span style=\"color: #00d7ff; text-decoration-color: #00d7ff\">None</span>, <span style=\"color: #00af00; text-decoration-color: #00af00\">1280</span>)           │             <span style=\"color: #00af00; text-decoration-color: #00af00\">0</span> │\n",
              "│ (<span style=\"color: #0087ff; text-decoration-color: #0087ff\">GlobalAveragePooling2D</span>)        │                        │               │\n",
              "├─────────────────────────────────┼────────────────────────┼───────────────┤\n",
              "│ batch_normalization_8           │ (<span style=\"color: #00d7ff; text-decoration-color: #00d7ff\">None</span>, <span style=\"color: #00af00; text-decoration-color: #00af00\">1280</span>)           │         <span style=\"color: #00af00; text-decoration-color: #00af00\">5,120</span> │\n",
              "│ (<span style=\"color: #0087ff; text-decoration-color: #0087ff\">BatchNormalization</span>)            │                        │               │\n",
              "├─────────────────────────────────┼────────────────────────┼───────────────┤\n",
              "│ dropout_8 (<span style=\"color: #0087ff; text-decoration-color: #0087ff\">Dropout</span>)             │ (<span style=\"color: #00d7ff; text-decoration-color: #00d7ff\">None</span>, <span style=\"color: #00af00; text-decoration-color: #00af00\">1280</span>)           │             <span style=\"color: #00af00; text-decoration-color: #00af00\">0</span> │\n",
              "├─────────────────────────────────┼────────────────────────┼───────────────┤\n",
              "│ dense_8 (<span style=\"color: #0087ff; text-decoration-color: #0087ff\">Dense</span>)                 │ (<span style=\"color: #00d7ff; text-decoration-color: #00d7ff\">None</span>, <span style=\"color: #00af00; text-decoration-color: #00af00\">128</span>)            │       <span style=\"color: #00af00; text-decoration-color: #00af00\">163,968</span> │\n",
              "├─────────────────────────────────┼────────────────────────┼───────────────┤\n",
              "│ batch_normalization_9           │ (<span style=\"color: #00d7ff; text-decoration-color: #00d7ff\">None</span>, <span style=\"color: #00af00; text-decoration-color: #00af00\">128</span>)            │           <span style=\"color: #00af00; text-decoration-color: #00af00\">512</span> │\n",
              "│ (<span style=\"color: #0087ff; text-decoration-color: #0087ff\">BatchNormalization</span>)            │                        │               │\n",
              "├─────────────────────────────────┼────────────────────────┼───────────────┤\n",
              "│ dropout_9 (<span style=\"color: #0087ff; text-decoration-color: #0087ff\">Dropout</span>)             │ (<span style=\"color: #00d7ff; text-decoration-color: #00d7ff\">None</span>, <span style=\"color: #00af00; text-decoration-color: #00af00\">128</span>)            │             <span style=\"color: #00af00; text-decoration-color: #00af00\">0</span> │\n",
              "├─────────────────────────────────┼────────────────────────┼───────────────┤\n",
              "│ dense_9 (<span style=\"color: #0087ff; text-decoration-color: #0087ff\">Dense</span>)                 │ (<span style=\"color: #00d7ff; text-decoration-color: #00d7ff\">None</span>, <span style=\"color: #00af00; text-decoration-color: #00af00\">1</span>)              │           <span style=\"color: #00af00; text-decoration-color: #00af00\">129</span> │\n",
              "└─────────────────────────────────┴────────────────────────┴───────────────┘\n",
              "</pre>\n"
            ]
          },
          "metadata": {}
        },
        {
          "output_type": "display_data",
          "data": {
            "text/plain": [
              "\u001b[1m Total params: \u001b[0m\u001b[38;5;34m4,219,300\u001b[0m (16.10 MB)\n"
            ],
            "text/html": [
              "<pre style=\"white-space:pre;overflow-x:auto;line-height:normal;font-family:Menlo,'DejaVu Sans Mono',consolas,'Courier New',monospace\"><span style=\"font-weight: bold\"> Total params: </span><span style=\"color: #00af00; text-decoration-color: #00af00\">4,219,300</span> (16.10 MB)\n",
              "</pre>\n"
            ]
          },
          "metadata": {}
        },
        {
          "output_type": "display_data",
          "data": {
            "text/plain": [
              "\u001b[1m Trainable params: \u001b[0m\u001b[38;5;34m166,913\u001b[0m (652.00 KB)\n"
            ],
            "text/html": [
              "<pre style=\"white-space:pre;overflow-x:auto;line-height:normal;font-family:Menlo,'DejaVu Sans Mono',consolas,'Courier New',monospace\"><span style=\"font-weight: bold\"> Trainable params: </span><span style=\"color: #00af00; text-decoration-color: #00af00\">166,913</span> (652.00 KB)\n",
              "</pre>\n"
            ]
          },
          "metadata": {}
        },
        {
          "output_type": "display_data",
          "data": {
            "text/plain": [
              "\u001b[1m Non-trainable params: \u001b[0m\u001b[38;5;34m4,052,387\u001b[0m (15.46 MB)\n"
            ],
            "text/html": [
              "<pre style=\"white-space:pre;overflow-x:auto;line-height:normal;font-family:Menlo,'DejaVu Sans Mono',consolas,'Courier New',monospace\"><span style=\"font-weight: bold\"> Non-trainable params: </span><span style=\"color: #00af00; text-decoration-color: #00af00\">4,052,387</span> (15.46 MB)\n",
              "</pre>\n"
            ]
          },
          "metadata": {}
        },
        {
          "output_type": "stream",
          "name": "stdout",
          "text": [
            "Training model...\n",
            "Epoch 1/20\n"
          ]
        },
        {
          "output_type": "stream",
          "name": "stderr",
          "text": [
            "/usr/local/lib/python3.11/dist-packages/keras/src/trainers/data_adapters/py_dataset_adapter.py:121: UserWarning: Your `PyDataset` class should call `super().__init__(**kwargs)` in its constructor. `**kwargs` can include `workers`, `use_multiprocessing`, `max_queue_size`. Do not pass these arguments to `fit()`, as they will be ignored.\n",
            "  self._warn_if_super_not_called()\n"
          ]
        },
        {
          "output_type": "stream",
          "name": "stdout",
          "text": [
            "\u001b[1m1280/1281\u001b[0m \u001b[32m━━━━━━━━━━━━━━━━━━━\u001b[0m\u001b[37m━\u001b[0m \u001b[1m0s\u001b[0m 77ms/step - accuracy: 0.6319 - loss: 0.6891"
          ]
        },
        {
          "output_type": "stream",
          "name": "stderr",
          "text": [
            "/usr/local/lib/python3.11/dist-packages/keras/src/trainers/data_adapters/py_dataset_adapter.py:121: UserWarning: Your `PyDataset` class should call `super().__init__(**kwargs)` in its constructor. `**kwargs` can include `workers`, `use_multiprocessing`, `max_queue_size`. Do not pass these arguments to `fit()`, as they will be ignored.\n",
            "  self._warn_if_super_not_called()\n"
          ]
        },
        {
          "output_type": "stream",
          "name": "stdout",
          "text": [
            "\n",
            "Epoch 1: val_accuracy improved from -inf to 0.49961, saving model to best_tomato_classifier.h5\n"
          ]
        },
        {
          "output_type": "stream",
          "name": "stderr",
          "text": [
            "WARNING:absl:You are saving your model as an HDF5 file via `model.save()` or `keras.saving.save_model(model)`. This file format is considered legacy. We recommend using instead the native Keras format, e.g. `model.save('my_model.keras')` or `keras.saving.save_model(model, 'my_model.keras')`. \n"
          ]
        },
        {
          "output_type": "stream",
          "name": "stdout",
          "text": [
            "\b\b\b\b\b\b\b\b\b\b\b\b\b\b\b\b\b\b\b\b\b\b\b\b\b\b\b\b\b\b\b\b\b\b\b\b\b\b\b\b\b\b\b\b\b\b\b\b\b\b\b\b\b\b\b\b\b\b\b\b\b\b\b\b\b\b\b\b\b\b\b\b\b\b\b\b\b\r\u001b[1m1281/1281\u001b[0m \u001b[32m━━━━━━━━━━━━━━━━━━━━\u001b[0m\u001b[37m\u001b[0m \u001b[1m145s\u001b[0m 92ms/step - accuracy: 0.6320 - loss: 0.6890 - val_accuracy: 0.4996 - val_loss: 0.7377 - learning_rate: 0.0010\n",
            "Epoch 2/20\n",
            "\u001b[1m1281/1281\u001b[0m \u001b[32m━━━━━━━━━━━━━━━━━━━━\u001b[0m\u001b[37m\u001b[0m \u001b[1m0s\u001b[0m 69ms/step - accuracy: 0.7624 - loss: 0.4871\n",
            "Epoch 2: val_accuracy improved from 0.49961 to 0.49980, saving model to best_tomato_classifier.h5\n"
          ]
        },
        {
          "output_type": "stream",
          "name": "stderr",
          "text": [
            "WARNING:absl:You are saving your model as an HDF5 file via `model.save()` or `keras.saving.save_model(model)`. This file format is considered legacy. We recommend using instead the native Keras format, e.g. `model.save('my_model.keras')` or `keras.saving.save_model(model, 'my_model.keras')`. \n"
          ]
        },
        {
          "output_type": "stream",
          "name": "stdout",
          "text": [
            "\b\b\b\b\b\b\b\b\b\b\b\b\b\b\b\b\b\b\b\b\b\b\b\b\b\b\b\b\b\b\b\b\b\b\b\b\b\b\b\b\b\b\b\b\b\b\b\b\b\b\b\b\b\b\b\b\b\b\b\b\b\b\b\b\b\b\b\b\b\b\b\b\b\b\b\b\b\r\u001b[1m1281/1281\u001b[0m \u001b[32m━━━━━━━━━━━━━━━━━━━━\u001b[0m\u001b[37m\u001b[0m \u001b[1m99s\u001b[0m 77ms/step - accuracy: 0.7624 - loss: 0.4871 - val_accuracy: 0.4998 - val_loss: 0.8089 - learning_rate: 0.0010\n",
            "Epoch 3/20\n",
            "\u001b[1m1281/1281\u001b[0m \u001b[32m━━━━━━━━━━━━━━━━━━━━\u001b[0m\u001b[37m\u001b[0m \u001b[1m0s\u001b[0m 68ms/step - accuracy: 0.7829 - loss: 0.4450\n",
            "Epoch 3: val_accuracy did not improve from 0.49980\n",
            "\u001b[1m1281/1281\u001b[0m \u001b[32m━━━━━━━━━━━━━━━━━━━━\u001b[0m\u001b[37m\u001b[0m \u001b[1m97s\u001b[0m 76ms/step - accuracy: 0.7829 - loss: 0.4450 - val_accuracy: 0.4998 - val_loss: 0.7531 - learning_rate: 0.0010\n",
            "Epoch 4/20\n",
            "\u001b[1m1281/1281\u001b[0m \u001b[32m━━━━━━━━━━━━━━━━━━━━\u001b[0m\u001b[37m\u001b[0m \u001b[1m0s\u001b[0m 69ms/step - accuracy: 0.7993 - loss: 0.4128\n",
            "Epoch 4: ReduceLROnPlateau reducing learning rate to 0.0003000000142492354.\n",
            "\n",
            "Epoch 4: val_accuracy did not improve from 0.49980\n",
            "\u001b[1m1281/1281\u001b[0m \u001b[32m━━━━━━━━━━━━━━━━━━━━\u001b[0m\u001b[37m\u001b[0m \u001b[1m142s\u001b[0m 76ms/step - accuracy: 0.7993 - loss: 0.4128 - val_accuracy: 0.4998 - val_loss: 0.7417 - learning_rate: 0.0010\n",
            "Epoch 5/20\n",
            "\u001b[1m1281/1281\u001b[0m \u001b[32m━━━━━━━━━━━━━━━━━━━━\u001b[0m\u001b[37m\u001b[0m \u001b[1m0s\u001b[0m 69ms/step - accuracy: 0.8144 - loss: 0.3911\n",
            "Epoch 5: val_accuracy did not improve from 0.49980\n",
            "\u001b[1m1281/1281\u001b[0m \u001b[32m━━━━━━━━━━━━━━━━━━━━\u001b[0m\u001b[37m\u001b[0m \u001b[1m97s\u001b[0m 76ms/step - accuracy: 0.8144 - loss: 0.3911 - val_accuracy: 0.4998 - val_loss: 0.8430 - learning_rate: 3.0000e-04\n",
            "Epoch 5: early stopping\n",
            "Restoring model weights from the end of the best epoch: 2.\n",
            "Fine-tuning model...\n",
            "Epoch 1/5\n"
          ]
        },
        {
          "output_type": "stream",
          "name": "stderr",
          "text": [
            "/usr/local/lib/python3.11/dist-packages/keras/src/losses/losses.py:33: SyntaxWarning: In loss categorical_crossentropy, expected y_pred.shape to be (batch_size, num_classes) with num_classes > 1. Received: y_pred.shape=(None, 1). Consider using 'binary_crossentropy' if you only have 2 classes.\n",
            "  return self.fn(y_true, y_pred, **self._fn_kwargs)\n",
            "/usr/local/lib/python3.11/dist-packages/keras/src/losses/losses.py:33: SyntaxWarning: In loss categorical_crossentropy, expected y_pred.shape to be (batch_size, num_classes) with num_classes > 1. Received: y_pred.shape=(None, 1). Consider using 'binary_crossentropy' if you only have 2 classes.\n",
            "  return self.fn(y_true, y_pred, **self._fn_kwargs)\n"
          ]
        },
        {
          "output_type": "stream",
          "name": "stdout",
          "text": [
            "\u001b[1m1281/1281\u001b[0m \u001b[32m━━━━━━━━━━━━━━━━━━━━\u001b[0m\u001b[37m\u001b[0m \u001b[1m0s\u001b[0m 106ms/step - accuracy: 0.9920 - loss: 0.0000e+00"
          ]
        },
        {
          "output_type": "stream",
          "name": "stderr",
          "text": [
            "/usr/local/lib/python3.11/dist-packages/keras/src/losses/losses.py:33: SyntaxWarning: In loss categorical_crossentropy, expected y_pred.shape to be (batch_size, num_classes) with num_classes > 1. Received: y_pred.shape=(None, 1). Consider using 'binary_crossentropy' if you only have 2 classes.\n",
            "  return self.fn(y_true, y_pred, **self._fn_kwargs)\n"
          ]
        },
        {
          "output_type": "stream",
          "name": "stdout",
          "text": [
            "\b\b\b\b\b\b\b\b\b\b\b\b\b\b\b\b\b\b\b\b\b\b\b\b\b\b\b\b\b\b\b\b\b\b\b\b\b\b\b\b\b\b\b\b\b\b\b\b\b\b\b\b\b\b\b\b\b\b\b\b\b\b\b\b\b\b\b\b\b\b\b\b\b\b\b\b\b\b\b\b\b\b\r\u001b[1m1281/1281\u001b[0m \u001b[32m━━━━━━━━━━━━━━━━━━━━\u001b[0m\u001b[37m\u001b[0m \u001b[1m233s\u001b[0m 121ms/step - accuracy: 0.9920 - loss: 0.0000e+00 - val_accuracy: 0.5002 - val_loss: 0.0000e+00\n",
            "Epoch 2/5\n",
            "\u001b[1m1281/1281\u001b[0m \u001b[32m━━━━━━━━━━━━━━━━━━━━\u001b[0m\u001b[37m\u001b[0m \u001b[1m111s\u001b[0m 87ms/step - accuracy: 0.9990 - loss: 0.0000e+00 - val_accuracy: 0.4998 - val_loss: 0.0000e+00\n",
            "Epoch 3/5\n",
            "\u001b[1m1281/1281\u001b[0m \u001b[32m━━━━━━━━━━━━━━━━━━━━\u001b[0m\u001b[37m\u001b[0m \u001b[1m112s\u001b[0m 87ms/step - accuracy: 0.9997 - loss: 0.0000e+00 - val_accuracy: 0.4998 - val_loss: 0.0000e+00\n",
            "Epoch 4/5\n",
            "\u001b[1m1281/1281\u001b[0m \u001b[32m━━━━━━━━━━━━━━━━━━━━\u001b[0m\u001b[37m\u001b[0m \u001b[1m110s\u001b[0m 86ms/step - accuracy: 0.9986 - loss: 0.0000e+00 - val_accuracy: 0.4998 - val_loss: 0.0000e+00\n",
            "Epoch 5/5\n",
            "\u001b[1m1281/1281\u001b[0m \u001b[32m━━━━━━━━━━━━━━━━━━━━\u001b[0m\u001b[37m\u001b[0m \u001b[1m110s\u001b[0m 86ms/step - accuracy: 0.9990 - loss: 0.0000e+00 - val_accuracy: 0.4998 - val_loss: 0.0000e+00\n",
            "Evaluating model...\n"
          ]
        },
        {
          "output_type": "stream",
          "name": "stderr",
          "text": [
            "/usr/local/lib/python3.11/dist-packages/keras/src/trainers/data_adapters/py_dataset_adapter.py:121: UserWarning: Your `PyDataset` class should call `super().__init__(**kwargs)` in its constructor. `**kwargs` can include `workers`, `use_multiprocessing`, `max_queue_size`. Do not pass these arguments to `fit()`, as they will be ignored.\n",
            "  self._warn_if_super_not_called()\n"
          ]
        },
        {
          "output_type": "stream",
          "name": "stdout",
          "text": [
            "\u001b[1m401/401\u001b[0m \u001b[32m━━━━━━━━━━━━━━━━━━━━\u001b[0m\u001b[37m\u001b[0m \u001b[1m24s\u001b[0m 43ms/step\n",
            "Classification Report:\n",
            "              precision    recall  f1-score   support\n",
            "\n",
            "  Not Tomato       0.50      1.00      0.67      3200\n",
            "      Tomato       0.00      0.00      0.00      3203\n",
            "\n",
            "    accuracy                           0.50      6403\n",
            "   macro avg       0.25      0.50      0.33      6403\n",
            "weighted avg       0.25      0.50      0.33      6403\n",
            "\n"
          ]
        },
        {
          "output_type": "stream",
          "name": "stderr",
          "text": [
            "/usr/local/lib/python3.11/dist-packages/sklearn/metrics/_classification.py:1565: UndefinedMetricWarning: Precision is ill-defined and being set to 0.0 in labels with no predicted samples. Use `zero_division` parameter to control this behavior.\n",
            "  _warn_prf(average, modifier, f\"{metric.capitalize()} is\", len(result))\n",
            "/usr/local/lib/python3.11/dist-packages/sklearn/metrics/_classification.py:1565: UndefinedMetricWarning: Precision is ill-defined and being set to 0.0 in labels with no predicted samples. Use `zero_division` parameter to control this behavior.\n",
            "  _warn_prf(average, modifier, f\"{metric.capitalize()} is\", len(result))\n",
            "/usr/local/lib/python3.11/dist-packages/sklearn/metrics/_classification.py:1565: UndefinedMetricWarning: Precision is ill-defined and being set to 0.0 in labels with no predicted samples. Use `zero_division` parameter to control this behavior.\n",
            "  _warn_prf(average, modifier, f\"{metric.capitalize()} is\", len(result))\n"
          ]
        },
        {
          "output_type": "display_data",
          "data": {
            "text/plain": [
              "<Figure size 800x600 with 2 Axes>"
            ],
            "image/png": "[encoded data removed]"
          },
          "metadata": {}
        },
        {
          "output_type": "display_data",
          "data": {
            "text/plain": [
              "<Figure size 800x600 with 1 Axes>"
            ],
            "image/png": "[encoded data removed]"
          },
          "metadata": {}
        },
        {
          "output_type": "stream",
          "name": "stderr",
          "text": [
            "WARNING:absl:You are saving your model as an HDF5 file via `model.save()` or `keras.saving.save_model(model)`. This file format is considered legacy. We recommend using instead the native Keras format, e.g. `model.save('my_model.keras')` or `keras.saving.save_model(model, 'my_model.keras')`. \n"
          ]
        },
        {
          "output_type": "stream",
          "name": "stdout",
          "text": [
            "Model saved as 'final_tomato_classifier.h5'\n",
            "Training completed!\n"
          ]
        }
      ]
    },
    {
      "cell_type": "code",
      "metadata": {
        "id": "fe60073c"
      },
      "source": [
        "import shutil\n",
        "\n",
        "# Function to copy dataset to local disk\n",
        "def copy_dataset_to_local(source_path, destination_path):\n",
        "    \"\"\"Copies the dataset from source_path to destination_path.\"\"\"\n",
        "    print(f\"Copying dataset from {source_path} to {destination_path}...\")\n",
        "    try:\n",
        "        shutil.copytree(source_path, destination_path)\n",
        "        print(\"Dataset copied successfully.\")\n",
        "    except FileExistsError:\n",
        "        print(\"Destination directory already exists. Skipping copy.\")\n",
        "    except Exception as e:\n",
        "        print(f\"Error copying dataset: {e}\")\n",
        "\n",
        "# Define local dataset path\n",
        "LOCAL_TOMATO_PATH = \"/content/local_plantvillage\""
      ],
      "execution_count": null,
      "outputs": []
    }
  ]
}